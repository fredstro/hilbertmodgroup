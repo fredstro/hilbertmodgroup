{
 "cells": [
  {
   "cell_type": "markdown",
   "metadata": {},
   "source": [
    "# Examples \n",
    "\n",
    "As our main examples we will consider Hilbert modular groups of the following three number Fields:\n",
    "- $ K_1 = \\mathbb{Q}(\\sqrt{5})$  (one cusp, discriminant 5, generally the simplest example)\n",
    "- $ K_2 = \\mathbb{Q}(\\sqrt{10})$ (two cusps, discriminant 40)\n",
    "- $ K_3 = \\mathbb{Q}(\\alpha)$, where $\\alpha$ has minimal polynomial $\\alpha^3-\\alpha^2-2x+1$ (one cusp, discriminant 49)\n",
    "\n",
    "In this notebook we will look at the first example. "
   ]
  },
  {
   "cell_type": "markdown",
   "metadata": {},
   "source": [
    "Note that SageMath chooses the fundamental unit $\\epsilon=-(1+\\sqrt{5})/2$ but this choice does not effect any of the results."
   ]
  },
  {
   "cell_type": "markdown",
   "metadata": {},
   "source": [
    "## Introductory example of basic usage\n",
    "Let's first demonstrate the reduction of a point $$z=(0.1+i,0.2+0.5i) \\in \\mathbb{H}^2$$ with respect to the fundamental domain of $K_1$."
   ]
  },
  {
   "cell_type": "code",
   "execution_count": null,
   "metadata": {},
   "outputs": [],
   "source": [
    "from plot import plot_polygon\n",
    "from hilbert_modgroup.all import HilbertModularGroup, HilbertPullback, UpperHalfPlaneProductElement\n",
    "H1 = HilbertModularGroup(5)\n",
    "K1 = H1.base_ring().number_field()\n",
    "P1 = HilbertPullback(H1)"
   ]
  },
  {
   "cell_type": "code",
   "execution_count": null,
   "metadata": {},
   "outputs": [],
   "source": [
    "z = UpperHalfPlaneProductElement([0.1+I,0.2+0.5*I])\n",
    "P1.reduce(z)"
   ]
  },
  {
   "cell_type": "markdown",
   "metadata": {},
   "source": [
    "Then check that if we apply a random element of $H_1$ we get the same (up to numerical error) reduced point"
   ]
  },
  {
   "cell_type": "code",
   "execution_count": null,
   "metadata": {},
   "outputs": [],
   "source": [
    "w = H1.random_element(-5,5).acton(z)\n",
    "P1.reduce(z) - P1.reduce(w)"
   ]
  },
  {
   "cell_type": "markdown",
   "metadata": {},
   "source": [
    "## Details of the algorithm\n",
    "We will now go through the inner workings of the algorithm and the construction of the relevant bounds in more detail. Note that the functions below will mainly be of interest to researchers who wants to verify or extend these algorithms or results."
   ]
  },
  {
   "cell_type": "code",
   "execution_count": null,
   "metadata": {},
   "outputs": [],
   "source": [
    "K1.discriminant()"
   ]
  },
  {
   "cell_type": "markdown",
   "metadata": {},
   "source": [
    "$$\n",
    "B_{\\Lambda} = (\\begin{array}{cc}\n",
    "\\log(\\frac{1}{2}(1+\\sqrt{5})) & \\log(\\frac{1}{2}(\\sqrt{5}-1))\\end{array})^t\n",
    "$$"
   ]
  },
  {
   "cell_type": "code",
   "execution_count": null,
   "metadata": {},
   "outputs": [],
   "source": [
    "P1.basis_matrix_logarithmic_unit_lattice()"
   ]
  },
  {
   "cell_type": "code",
   "execution_count": null,
   "metadata": {},
   "outputs": [],
   "source": [
    "P1.basis_matrix_logarithmic_unit_lattice().norm(Infinity)"
   ]
  },
  {
   "cell_type": "markdown",
   "metadata": {},
   "source": [
    "$$\n",
    "B_{\\mathcal{O}_K}\n",
    "=\\left(\\begin{array}{cc}\n",
    "1 & -\\frac{1}{2}\\left(1+\\sqrt{5}\\right)\\\\\n",
    "1 & -\\frac{1}{2}\\left(1-\\sqrt{5}\\right)\n",
    "\\end{array}\\right),\\ \n",
    "B_{\\mathcal{O}_K}^{-1}=\\frac{1}{\\sqrt{5}}\\left(\\begin{array}{cc}\n",
    "-\\frac{1}{2}(1-\\sqrt{5}) & \\frac{1}{2}(1+\\sqrt{5})\\\\\n",
    "-1 & 1\n",
    "\\end{array}\\right)\n",
    "$$"
   ]
  },
  {
   "cell_type": "code",
   "execution_count": null,
   "metadata": {},
   "outputs": [],
   "source": [
    "P1.D() # D_0 and D_1"
   ]
  },
  {
   "cell_type": "code",
   "execution_count": null,
   "metadata": {},
   "outputs": [],
   "source": [
    "P1.basis_matrix_ideal().inverse()"
   ]
  },
  {
   "cell_type": "code",
   "execution_count": null,
   "metadata": {},
   "outputs": [],
   "source": [
    "P1.basis_matrix_ideal().norm(Infinity)"
   ]
  },
  {
   "cell_type": "code",
   "execution_count": null,
   "metadata": {},
   "outputs": [],
   "source": [
    "P1.basis_matrix_ideal().inverse().norm(Infinity)"
   ]
  },
  {
   "cell_type": "markdown",
   "metadata": {},
   "source": [
    "Consider the point $\\mathbf{z}=i\\mathbf{1}$."
   ]
  },
  {
   "cell_type": "code",
   "execution_count": null,
   "metadata": {},
   "outputs": [],
   "source": [
    "z=UpperHalfPlaneProductElement([CC(0,1),CC(0,1)])"
   ]
  },
  {
   "cell_type": "markdown",
   "metadata": {},
   "source": [
    "Make a plot of the box given by the bounds of the embeddings together with the curves bounding the norm."
   ]
  },
  {
   "cell_type": "markdown",
   "metadata": {},
   "source": [
    "The norm bound implies that  $\\sigma_1 \\sigma_2 \\le 1.0$"
   ]
  },
  {
   "cell_type": "code",
   "execution_count": null,
   "metadata": {},
   "outputs": [],
   "source": [
    "P1._bound_for_sigma_norm(z)"
   ]
  },
  {
   "cell_type": "code",
   "execution_count": null,
   "metadata": {},
   "outputs": [],
   "source": [
    "P1.get_heuristic_closest_cusp(z)"
   ]
  },
  {
   "cell_type": "code",
   "execution_count": null,
   "metadata": {},
   "outputs": [],
   "source": [
    "# Add arguments to include the norm bounds\n",
    "norm_args = {'norm_bound':P1._bound_for_sigma_norm(z)}"
   ]
  },
  {
   "cell_type": "code",
   "execution_count": null,
   "metadata": {},
   "outputs": [],
   "source": [
    "p=P1._candidate_integers_sigma(z,domain='preimage',return_polyhedron=True)"
   ]
  },
  {
   "cell_type": "code",
   "execution_count": null,
   "metadata": {},
   "outputs": [],
   "source": [
    "plot_polygon(p,K1.ideal(1).integral_basis(),action='show',**norm_args)"
   ]
  },
  {
   "cell_type": "markdown",
   "metadata": {},
   "source": [
    "We observe here that of course the points $1$ and $-1$ lie on the norm bound curves. "
   ]
  },
  {
   "cell_type": "code",
   "execution_count": null,
   "metadata": {},
   "outputs": [],
   "source": [
    "plot_polygon(p,K1.ideal(1).integral_basis(),action='save',filename='K1.z1.domain1.pgf',**norm_args)"
   ]
  },
  {
   "cell_type": "code",
   "execution_count": null,
   "metadata": {},
   "outputs": [],
   "source": [
    "p1=P1._candidate_integers_sigma(z,domain='polytope',return_polyhedron=True)"
   ]
  },
  {
   "cell_type": "code",
   "execution_count": null,
   "metadata": {},
   "outputs": [],
   "source": [
    "# Add arguments to include the norm bounds\n",
    "norm_args = {'norm_bound':P1._bound_for_sigma_norm(z),'curve_map':P1.basis_matrix_ideal().inverse()}"
   ]
  },
  {
   "cell_type": "code",
   "execution_count": null,
   "metadata": {},
   "outputs": [],
   "source": [
    "plot_polygon(p1,[1,1],action='show',**norm_args)"
   ]
  },
  {
   "cell_type": "code",
   "execution_count": null,
   "metadata": {},
   "outputs": [],
   "source": [
    "plot_polygon(p1,[1,1],action='save',filename='K1.z1.domain2.pgf',**norm_args)"
   ]
  },
  {
   "cell_type": "markdown",
   "metadata": {},
   "source": [
    "Now let's see what candidates we have for sigma:"
   ]
  },
  {
   "cell_type": "code",
   "execution_count": null,
   "metadata": {},
   "outputs": [],
   "source": [
    "l=P1._candidate_integers_sigma(z); l"
   ]
  },
  {
   "cell_type": "markdown",
   "metadata": {},
   "source": [
    "And the candidates for closest cusps are (1:0), (0:1), (1:1) and (1:-1):"
   ]
  },
  {
   "cell_type": "code",
   "execution_count": null,
   "metadata": {},
   "outputs": [],
   "source": [
    "for c in P1._candidate_closest_cusps(z):\n",
    "    print(f\"({str(c[0]):<3} : {str(c[1]):>3})\",P1.distance_to_cusp(c,z))"
   ]
  },
  {
   "cell_type": "markdown",
   "metadata": {},
   "source": [
    "Let's go through the same steps but for $\\mathbf{z}=\\frac{i}{2} \\mathbf{1}$:"
   ]
  },
  {
   "cell_type": "code",
   "execution_count": null,
   "metadata": {},
   "outputs": [],
   "source": [
    "z=UpperHalfPlaneProductElement([CC(0,0.5),CC(0,0.5)])"
   ]
  },
  {
   "cell_type": "markdown",
   "metadata": {},
   "source": [
    "If we try to find a preliminary bound we find easily that the distance to the cusp at 0 is 0.5 and the distance to infinity is 2.0 "
   ]
  },
  {
   "cell_type": "code",
   "execution_count": null,
   "metadata": {},
   "outputs": [],
   "source": [
    "print(\"distance to 0/1:\",P1.distance_to_cusp(NFCusp(K1,0,1),z))\n",
    "print(\"distance to 1/0:\",P1.distance_to_cusp(NFCusp(K1,1,0),z))\n"
   ]
  },
  {
   "cell_type": "markdown",
   "metadata": {},
   "source": [
    "We can use a $d=0.5$ and in fact obtain the same bounds as above: "
   ]
  },
  {
   "cell_type": "code",
   "execution_count": null,
   "metadata": {},
   "outputs": [],
   "source": [
    "P1._bound_for_sigma_embeddings(z)"
   ]
  },
  {
   "cell_type": "markdown",
   "metadata": {},
   "source": [
    "Which obviously yields the same candidates for $\\sigma$"
   ]
  },
  {
   "cell_type": "code",
   "execution_count": null,
   "metadata": {},
   "outputs": [],
   "source": [
    "P1._candidate_integers_sigma(z)"
   ]
  },
  {
   "cell_type": "markdown",
   "metadata": {},
   "source": [
    "But the candidates for $\\rho$ differs and we actually only have $\\rho=0$"
   ]
  },
  {
   "cell_type": "code",
   "execution_count": null,
   "metadata": {},
   "outputs": [],
   "source": [
    "for s in P1._candidate_integers_sigma(z):\n",
    "    print(P1._bound_for_rho_embeddings(z,s))\n",
    "    print(f\"{s}: {P1._candidate_integers_rho(z,s)}\")"
   ]
  },
  {
   "cell_type": "code",
   "execution_count": null,
   "metadata": {},
   "outputs": [],
   "source": [
    "for c in P1._candidate_closest_cusps(z):\n",
    "    print(f\"({str(c[0]):<3} : {str(c[1]):>3})\",P1.distance_to_cusp(c,z))"
   ]
  },
  {
   "cell_type": "markdown",
   "metadata": {},
   "source": [
    "And the closest cusp is indeed $(0:1)$"
   ]
  },
  {
   "cell_type": "markdown",
   "metadata": {},
   "source": [
    "Now, just for illustration, let's see what happens if we don't try to find any preliminary bound but just go with infinity as initial cusp. We then get twice the original bounds for $\\sigma$:"
   ]
  },
  {
   "cell_type": "code",
   "execution_count": null,
   "metadata": {},
   "outputs": [],
   "source": [
    "P1._bound_for_sigma_embeddings(z,use_initial_bd_d=False)"
   ]
  },
  {
   "cell_type": "code",
   "execution_count": null,
   "metadata": {},
   "outputs": [],
   "source": [
    "# The norm bound with d= dist to oo\n",
    "P1._bound_for_sigma_norm(z)"
   ]
  },
  {
   "cell_type": "code",
   "execution_count": null,
   "metadata": {},
   "outputs": [],
   "source": [
    "basis=K1.ideal(1).integral_basis(); basis"
   ]
  },
  {
   "cell_type": "code",
   "execution_count": null,
   "metadata": {},
   "outputs": [],
   "source": [
    "P1._bound_for_sigma_embeddings(z,use_initial_bd_d=False)"
   ]
  },
  {
   "cell_type": "code",
   "execution_count": null,
   "metadata": {},
   "outputs": [],
   "source": [
    "p1=P1._candidate_integers_sigma(z,domain='preimage',return_polyhedron=True,use_initial_bd_d=False)\n",
    "norm_args = {'norm_bound':P1._bound_for_sigma_norm(z)}\n",
    "plot_polygon(p1,basis,action='show',ticks=[2,2],xmin=-3,xmax=3,ymin=-3,ymax=3,**norm_args)"
   ]
  },
  {
   "cell_type": "code",
   "execution_count": null,
   "metadata": {},
   "outputs": [],
   "source": [
    "plot_polygon(p1,K1.ideal(1).integral_basis(),action='save',filename='K1.z2.domain1.pgf',xmin=-3,xmax=3,ymin=-3,ymax=3,\n",
    "             ticks=[2,2],**norm_args)"
   ]
  },
  {
   "cell_type": "code",
   "execution_count": null,
   "metadata": {},
   "outputs": [],
   "source": [
    "p=P1._candidate_integers_sigma(z,domain='polytope',return_polyhedron=True,use_initial_bd_d=False)\n",
    "# Add arguments to include the norm bounds\n",
    "norm_args = {'norm_bound':P1._bound_for_sigma_norm(z,4),'curve_map':P1.basis_matrix_ideal().inverse()}\n",
    "plot_polygon(p,[1,1],action='show',ticks=[2,2],xmax=4,xmin=-4,ymin=-4,ymax=4,**norm_args)"
   ]
  },
  {
   "cell_type": "code",
   "execution_count": null,
   "metadata": {},
   "outputs": [],
   "source": [
    "plot_polygon(p,[1,1],action='save',filename='K1.z2.domain2.pgf',ticks=[2,2],xmax=4.5,**norm_args)"
   ]
  },
  {
   "cell_type": "markdown",
   "metadata": {},
   "source": [
    "We see immediately that in this case we have 9 candidates for $\\sigma$"
   ]
  },
  {
   "cell_type": "code",
   "execution_count": null,
   "metadata": {},
   "outputs": [],
   "source": [
    "len(P1._candidate_integers_sigma(z,use_initial_bd_d=False))"
   ]
  },
  {
   "cell_type": "markdown",
   "metadata": {},
   "source": [
    "And we actually obtain 9 distinct candidates for closest cusp:"
   ]
  },
  {
   "cell_type": "code",
   "execution_count": null,
   "metadata": {},
   "outputs": [],
   "source": [
    "P1._candidate_closest_cusps(z,use_initial_bd_d=False,as_cusps=True)"
   ]
  }
 ],
 "metadata": {
  "kernelspec": {
   "display_name": "SageMath 9.5",
   "language": "sage",
   "name": "sagemath"
  },
  "language_info": {
   "codemirror_mode": {
    "name": "ipython",
    "version": 3
   },
   "file_extension": ".py",
   "mimetype": "text/x-python",
   "name": "python",
   "nbconvert_exporter": "python",
   "pygments_lexer": "ipython3",
   "version": "3.10.2"
  }
 },
 "nbformat": 4,
 "nbformat_minor": 2
}
