{
 "cells": [
  {
   "cell_type": "markdown",
   "metadata": {},
   "source": [
    "## Example 4\n",
    "\n",
    "Let's now consider a substantially larger field: \n",
    " $K=\\mathbb{Q}\\left(\\alpha\\right)$ where $\\alpha$ has a minimal polynomial $\\alpha^{3}-36\\alpha-1$. Then $K$ has discriminant $20733$, class number $5$ and its label in the LMFDB is 3.3.20733.1.\n",
    " \n",
    "Note that the algorithm in this case is much slower than for the other fields and running the actual reduction examples will take a long time.  "
   ]
  },
  {
   "cell_type": "code",
   "execution_count": null,
   "metadata": {},
   "outputs": [],
   "source": [
    "from plot import plot_polygon\n",
    "from hilbert_modgroup.all import HilbertModularGroup, HilbertPullback, UpperHalfPlaneProductElement\n",
    "x = ZZ['x'].gen()\n",
    "K4.<a> = NumberField(x^3-36*x-1)\n",
    "H4=HilbertModularGroup(K4)\n",
    "P4=HilbertPullback(H4)\n",
    "print(\"Class number=\",H4.ncusps())\n",
    "print(\"Discriminant=\",K4.discriminant())"
   ]
  },
  {
   "cell_type": "code",
   "execution_count": null,
   "metadata": {},
   "outputs": [],
   "source": [
    "z = UpperHalfPlaneProductElement([2*I,2*I,3+1*I])\n",
    "z1 = P4.reduce(z); z1\n",
    "# Will be \n",
    "# [-1.00000000000000 + 2.00000000000000*I, -1.00000000000000 + 2.00000000000000*I, 2.00000000000000 + 1.00000000000000*I]"
   ]
  },
  {
   "cell_type": "markdown",
   "metadata": {},
   "source": [
    "Then check that if we apply a random element of $H_4$ we get the same (up to numerical error) reduced point"
   ]
  },
  {
   "cell_type": "code",
   "execution_count": null,
   "metadata": {},
   "outputs": [],
   "source": [
    "H3.random_element(-1,1)\n",
    "# For example\n",
    "# [   67*a^2 + a + 1     a^2 + 5*a - 1]\n",
    "# [-3*a^2 + 14*a + 4                 1]"
   ]
  },
  {
   "cell_type": "code",
   "execution_count": null,
   "metadata": {},
   "outputs": [],
   "source": [
    "w = H3.random_element(-1,1).acton(z)\n",
    "P3.reduce(w) - z1\n",
    "# Will be\n",
    "# [ - 1.11022302462516e-16*I,  - 2.22044604925031e-16*I, 4.44089209850063e-16]"
   ]
  },
  {
   "cell_type": "markdown",
   "metadata": {},
   "source": [
    "## Details of the algorithm\n",
    "We will now go through the inner workings of the algorithm and the construction of the relevant bounds in more detail."
   ]
  },
  {
   "cell_type": "code",
   "execution_count": null,
   "metadata": {},
   "outputs": [],
   "source": [
    "H4.cusps()"
   ]
  },
  {
   "cell_type": "code",
   "execution_count": null,
   "metadata": {},
   "outputs": [],
   "source": [
    "a.complex_embeddings()"
   ]
  },
  {
   "cell_type": "code",
   "execution_count": null,
   "metadata": {},
   "outputs": [],
   "source": [
    "P4.fundamental_units()"
   ]
  },
  {
   "cell_type": "code",
   "execution_count": null,
   "metadata": {},
   "outputs": [],
   "source": [
    "K4.ideal(1).basis()"
   ]
  },
  {
   "cell_type": "code",
   "execution_count": null,
   "metadata": {},
   "outputs": [],
   "source": [
    "P4.basis_matrix_logarithmic_unit_lattice()"
   ]
  },
  {
   "cell_type": "code",
   "execution_count": null,
   "metadata": {},
   "outputs": [],
   "source": [
    "P4.basis_matrix_logarithmic_unit_lattice().norm(Infinity)"
   ]
  },
  {
   "cell_type": "code",
   "execution_count": null,
   "metadata": {},
   "outputs": [],
   "source": [
    "P4.basis_matrix_ideal().inverse()"
   ]
  },
  {
   "cell_type": "code",
   "execution_count": null,
   "metadata": {},
   "outputs": [],
   "source": [
    "P4.basis_matrix_ideal()"
   ]
  },
  {
   "cell_type": "code",
   "execution_count": null,
   "metadata": {},
   "outputs": [],
   "source": [
    "P4.D()"
   ]
  },
  {
   "cell_type": "code",
   "execution_count": null,
   "metadata": {},
   "outputs": [],
   "source": [
    "P4.basis_matrix_ideal().norm(Infinity)"
   ]
  },
  {
   "cell_type": "code",
   "execution_count": null,
   "metadata": {},
   "outputs": [],
   "source": [
    "P4.basis_matrix_ideal().inverse().norm(Infinity)"
   ]
  },
  {
   "cell_type": "code",
   "execution_count": null,
   "metadata": {},
   "outputs": [],
   "source": [
    "z=UpperHalfPlaneProductElement([CC(0,1.0),CC(0,1.0),CC(0,1.0)])\n",
    "#P4.find_closest_cusp(z,return_multiple=True)"
   ]
  },
  {
   "cell_type": "code",
   "execution_count": null,
   "metadata": {},
   "outputs": [],
   "source": [
    "P4._bound_for_sigma_embeddings(z)"
   ]
  },
  {
   "cell_type": "code",
   "execution_count": null,
   "metadata": {},
   "outputs": [],
   "source": [
    "sigmas = P4._candidate_integers_sigma(z)\n",
    "#print(sigmas)\n",
    "print(len(sigmas))"
   ]
  },
  {
   "cell_type": "code",
   "execution_count": null,
   "metadata": {},
   "outputs": [],
   "source": [
    "# This takes a long... time\n",
    "candidate_cusps = P4._candidate_closest_cusps(z,as_cusps=True)\n",
    "print(\"candidate cusps=\",candidate_cusps)\n",
    "print(\"Number of candidate cusps=\",len(candidate_cusps))"
   ]
  },
  {
   "cell_type": "code",
   "execution_count": null,
   "metadata": {},
   "outputs": [],
   "source": []
  }
 ],
 "metadata": {
  "kernelspec": {
   "display_name": "SageMath 9.5",
   "language": "sage",
   "name": "sagemath"
  },
  "language_info": {
   "codemirror_mode": {
    "name": "ipython",
    "version": 3
   },
   "file_extension": ".py",
   "mimetype": "text/x-python",
   "name": "python",
   "nbconvert_exporter": "python",
   "pygments_lexer": "ipython3",
   "version": "3.10.2"
  }
 },
 "nbformat": 4,
 "nbformat_minor": 4
}
