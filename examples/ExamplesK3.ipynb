{
 "cells": [
  {
   "cell_type": "markdown",
   "metadata": {},
   "source": [
    "As our main examples we will consider Hilbert modular groups of the following three number Fields:\n",
    "- $ K_1 = \\mathbb{Q}(\\sqrt{5})$  (one cusp, discriminant 5, generally the simplest example)\n",
    "- $ K_2 = \\mathbb{Q}(\\sqrt{10})$ (two cusps, discriminant 40)\n",
    "- $ K_3 = \\mathbb{Q}(\\alpha)$, where $\\alpha$ has minimal polynomial $\\alpha^3-\\alpha^2-2x+1$ (one cusp, discriminant 49)\n",
    "\n",
    "In this notebook we will look at the third example.\n",
    "\n",
    "## Example 3 $K_3=\\mathbb{Q}(\\alpha)$ \n",
    "\n",
    "This has class number 1, discriminant 49 and a fundamental units\n",
    "$\\epsilon_1=2-\\alpha^2$ and $\\epsilon_2=\\alpha^2-1$\n"
   ]
  },
  {
   "cell_type": "markdown",
   "metadata": {},
   "source": [
    "## Introductory example of basic usage\n",
    "Let's first demonstrate the reduction of a point $$z=(0.1+i,0.2+0.5i, 0.3 + 0.25i) \\in \\mathbb{H}^3$$ with respect to the fundamental domain of $K_3$."
   ]
  },
  {
   "cell_type": "code",
   "execution_count": null,
   "metadata": {},
   "outputs": [],
   "source": [
    "from hilbert_modgroup.all import HilbertModularGroup, HilbertPullback, UpperHalfPlaneProductElement\n",
    "from plot import plot_polygon\n",
    "x = ZZ['x'].gen()\n",
    "K3.<a> = NumberField(x^3-x^2-2*x+1)\n",
    "H3=HilbertModularGroup(K3)\n",
    "P3=HilbertPullback(H3)"
   ]
  },
  {
   "cell_type": "code",
   "execution_count": null,
   "metadata": {},
   "outputs": [],
   "source": [
    "z = UpperHalfPlaneProductElement([0.1+I,0.2+0.5*I, 0.3 + 0.25*I])\n",
    "z1 = P3.reduce(z); z1"
   ]
  },
  {
   "cell_type": "markdown",
   "metadata": {},
   "source": [
    "Then check that if we apply a random element of $H_3$ we get the same (up to numerical error) reduced point"
   ]
  },
  {
   "cell_type": "code",
   "execution_count": null,
   "metadata": {},
   "outputs": [],
   "source": [
    "H3.random_element(-1,1)"
   ]
  },
  {
   "cell_type": "code",
   "execution_count": null,
   "metadata": {},
   "outputs": [],
   "source": [
    "w = H3.random_element(-1,1).acton(z)\n",
    "P3.reduce(w) - z1"
   ]
  },
  {
   "cell_type": "markdown",
   "metadata": {},
   "source": [
    "## Details of the algorithm\n",
    "We will now go through the inner workings of the algorithm and the construction of the relevant bounds in more detail.\n",
    "Note that the functions below will mainly be of interest to researchers who wants to verify or extend these algorithms or results."
   ]
  },
  {
   "cell_type": "code",
   "execution_count": null,
   "metadata": {},
   "outputs": [],
   "source": [
    "print(\"Class number=\",H3.ncusps())\n",
    "print(\"Discriminant=\",K3.discriminant())\n",
    "print(\"Fundamental units=\",P3.fundamental_units())"
   ]
  },
  {
   "cell_type": "code",
   "execution_count": null,
   "metadata": {},
   "outputs": [],
   "source": [
    "H3.cusps()"
   ]
  },
  {
   "cell_type": "code",
   "execution_count": null,
   "metadata": {},
   "outputs": [],
   "source": [
    "a.complex_embeddings()"
   ]
  },
  {
   "cell_type": "code",
   "execution_count": null,
   "metadata": {},
   "outputs": [],
   "source": [
    "P3.fundamental_units()"
   ]
  },
  {
   "cell_type": "code",
   "execution_count": null,
   "metadata": {},
   "outputs": [],
   "source": [
    "K3.ideal(1).basis()"
   ]
  },
  {
   "cell_type": "code",
   "execution_count": null,
   "metadata": {},
   "outputs": [],
   "source": [
    "P3.basis_matrix_logarithmic_unit_lattice()"
   ]
  },
  {
   "cell_type": "code",
   "execution_count": null,
   "metadata": {},
   "outputs": [],
   "source": [
    "P3.D()"
   ]
  },
  {
   "cell_type": "code",
   "execution_count": null,
   "metadata": {},
   "outputs": [],
   "source": [
    "P3.basis_matrix_logarithmic_unit_lattice().norm(Infinity)"
   ]
  },
  {
   "cell_type": "code",
   "execution_count": null,
   "metadata": {},
   "outputs": [],
   "source": [
    "for i in range(3):\n",
    "    print(i,P3._matrix_BLambda_row_sum(i))"
   ]
  },
  {
   "cell_type": "code",
   "execution_count": null,
   "metadata": {},
   "outputs": [],
   "source": [
    "P3.basis_matrix_ideal().inverse()"
   ]
  },
  {
   "cell_type": "code",
   "execution_count": null,
   "metadata": {},
   "outputs": [],
   "source": [
    "P3.D()"
   ]
  },
  {
   "cell_type": "code",
   "execution_count": null,
   "metadata": {},
   "outputs": [],
   "source": [
    "P3.basis_matrix_ideal().norm(Infinity)"
   ]
  },
  {
   "cell_type": "code",
   "execution_count": null,
   "metadata": {},
   "outputs": [],
   "source": [
    "P3.basis_matrix_ideal().inverse().norm(Infinity)"
   ]
  },
  {
   "cell_type": "markdown",
   "metadata": {},
   "source": [
    "Let's now consider the usual point $\\mathbf{z}=i\\mathbf{1}$ and find the closest cusp."
   ]
  },
  {
   "cell_type": "code",
   "execution_count": null,
   "metadata": {},
   "outputs": [],
   "source": [
    "z=UpperHalfPlaneProductElement([CC(0,1.0),CC(0,1.0),CC(0,1.0)])"
   ]
  },
  {
   "cell_type": "code",
   "execution_count": null,
   "metadata": {},
   "outputs": [],
   "source": [
    "# The norm bound is as usual 1.\n",
    "P3._bound_for_sigma_norm(z)"
   ]
  },
  {
   "cell_type": "markdown",
   "metadata": {},
   "source": [
    "The preliminary reduction using LLL only finds the cusp at infinity (as usual for $i\\mathbf{1}$)."
   ]
  },
  {
   "cell_type": "code",
   "execution_count": null,
   "metadata": {},
   "outputs": [],
   "source": [
    "P3.get_heuristic_closest_cusp(z,as_cusp=True)"
   ]
  },
  {
   "cell_type": "code",
   "execution_count": null,
   "metadata": {},
   "outputs": [],
   "source": [
    "P3.distance_to_cusp(P3._construct_cusp(0),z)"
   ]
  },
  {
   "cell_type": "code",
   "execution_count": null,
   "metadata": {},
   "outputs": [],
   "source": [
    "P3.distance_to_cusp(H3.cusps()[0],z)"
   ]
  },
  {
   "cell_type": "code",
   "execution_count": null,
   "metadata": {},
   "outputs": [],
   "source": [
    "P3._bound_for_sigma_embeddings(z)"
   ]
  },
  {
   "cell_type": "code",
   "execution_count": null,
   "metadata": {},
   "outputs": [],
   "source": [
    "p=P3._candidate_integers_sigma(z,domain='preimage',return_polyhedron=True)\n",
    "norm_args = {'norm_bound':P3._bound_for_sigma_norm(z)}\n",
    "plot_polygon(p,K3.ideal(1).integral_basis(),action='show',ticks=[1,1,1],polygon=False,inside_polygon=True,\n",
    "             xmin=-2,xmax=2,ymin=-1.5,ymax=1.5,zmin=-1.6,zmax=1.67,**norm_args)"
   ]
  },
  {
   "cell_type": "code",
   "execution_count": null,
   "metadata": {},
   "outputs": [],
   "source": [
    "# Viewpoint: [-0.0433,-0.5767,-0.8158],172.99]\n",
    "# Saving directly as PNG does not really work unfortunately. It is better to save the above form the menu.\n",
    "#plot_polygon(p,K3.ideal(1).integral_basis(),action='save',ticks=[2,3],polygon=False,filename='K3.z1.domain1.png')"
   ]
  },
  {
   "cell_type": "markdown",
   "metadata": {},
   "source": [
    "We can see from the image that there are 5 candidates for sigma"
   ]
  },
  {
   "cell_type": "code",
   "execution_count": null,
   "metadata": {},
   "outputs": [],
   "source": [
    "len(P3._candidate_integers_sigma(z))"
   ]
  },
  {
   "cell_type": "code",
   "execution_count": null,
   "metadata": {},
   "outputs": [],
   "source": [
    "sigmas = P3._candidate_integers_sigma(z,use_norm_bound=False)\n",
    "for s in sigmas:\n",
    "    print(f\"{str(s):<20} {str(s.norm()):>3}\")"
   ]
  },
  {
   "cell_type": "code",
   "execution_count": null,
   "metadata": {},
   "outputs": [],
   "source": [
    "p=P3._candidate_integers_sigma(z,domain='polytope',return_polyhedron=True)\n",
    "norm_args = {'norm_bound':P3._bound_for_sigma_norm(z),'curve_map':P3.basis_matrix_ideal(),\n",
    "             'norm_plot_factor':1}\n",
    "plot_polygon(p,[1,1,1],action='show',ticks=[2,2,2],polygon=False,inside_polygon=True,xmin=-2,xmax=2,\n",
    "             **norm_args)"
   ]
  },
  {
   "cell_type": "code",
   "execution_count": null,
   "metadata": {},
   "outputs": [],
   "source": [
    "#plot_polygon(p,[1,1,1],action='save',ticks=[2,2,2],filename='K3.z1.domain2.pgf',xmin=-3.5,xmax=3.5,ymin=-3.5,ymax=3.5)"
   ]
  },
  {
   "cell_type": "markdown",
   "metadata": {},
   "source": [
    "Now let's find the closest cusps to $\\mathbf{z}$"
   ]
  },
  {
   "cell_type": "code",
   "execution_count": null,
   "metadata": {},
   "outputs": [],
   "source": [
    "sigmas = P3._candidate_integers_sigma(z,use_norm_bound=False)\n",
    "print(sigmas)\n",
    "print(len(sigmas))\n"
   ]
  },
  {
   "cell_type": "code",
   "execution_count": null,
   "metadata": {},
   "outputs": [],
   "source": [
    "candidate_cusps = P3._candidate_closest_cusps(z,as_cusps=True)\n",
    "print(\"Number of candidate cusps=\",len(candidate_cusps))"
   ]
  },
  {
   "cell_type": "code",
   "execution_count": null,
   "metadata": {},
   "outputs": [],
   "source": [
    "P3.find_closest_cusp(z,return_multiple=True)"
   ]
  },
  {
   "cell_type": "code",
   "execution_count": null,
   "metadata": {},
   "outputs": [],
   "source": [
    "P3.distance_to_cusp((1,0),z)"
   ]
  },
  {
   "cell_type": "code",
   "execution_count": null,
   "metadata": {},
   "outputs": [],
   "source": [
    "P3.distance_to_cusp((0,1),z)"
   ]
  },
  {
   "cell_type": "markdown",
   "metadata": {},
   "source": [
    "If we consider instead the point $\\mathbf{z}=\\frac{1}{2}i\\mathbf{1}$ we find as before that the closest cusp is $(0:1)$. "
   ]
  },
  {
   "cell_type": "code",
   "execution_count": null,
   "metadata": {},
   "outputs": [],
   "source": [
    "z = UpperHalfPlaneProductElement([I/2,I/2,I/2])"
   ]
  },
  {
   "cell_type": "markdown",
   "metadata": {},
   "source": [
    "The preliminary search gives the cusp $(0:1)$ and using the distance to this for the initianl bound gives the same embeddiing and norm bounds for $\\sigma$ as for $i\\mathbf{1}$ and the total numbe of cusp candidates will even be smaller (9):"
   ]
  },
  {
   "cell_type": "code",
   "execution_count": null,
   "metadata": {},
   "outputs": [],
   "source": [
    "P3.get_heuristic_closest_cusp(z)"
   ]
  },
  {
   "cell_type": "code",
   "execution_count": null,
   "metadata": {},
   "outputs": [],
   "source": [
    "P3.distance_to_cusp((0,1),z)"
   ]
  },
  {
   "cell_type": "code",
   "execution_count": null,
   "metadata": {},
   "outputs": [],
   "source": [
    "P3._bound_for_sigma_norm(z,dist=P3.distance_to_cusp((0,1),z))"
   ]
  },
  {
   "cell_type": "code",
   "execution_count": null,
   "metadata": {},
   "outputs": [],
   "source": [
    "sigmas = P3._candidate_integers_sigma(z)\n",
    "print(sigmas)\n",
    "print(len(sigmas))"
   ]
  },
  {
   "cell_type": "code",
   "execution_count": null,
   "metadata": {},
   "outputs": [],
   "source": [
    "candidate_cusps = P3._candidate_closest_cusps(z,as_cusps=True)\n",
    "print(\"Number of candidate cusps=\",len(candidate_cusps))"
   ]
  },
  {
   "cell_type": "code",
   "execution_count": null,
   "metadata": {},
   "outputs": [],
   "source": [
    "P3.find_closest_cusp(z,return_multiple=True)"
   ]
  },
  {
   "cell_type": "markdown",
   "metadata": {},
   "source": [
    "So 0 is the unique closest cusp."
   ]
  }
 ],
 "metadata": {
  "kernelspec": {
   "display_name": "SageMath 9.5",
   "language": "sage",
   "name": "sagemath"
  },
  "language_info": {
   "codemirror_mode": {
    "name": "ipython",
    "version": 3
   },
   "file_extension": ".py",
   "mimetype": "text/x-python",
   "name": "python",
   "nbconvert_exporter": "python",
   "pygments_lexer": "ipython3",
   "version": "3.10.2"
  }
 },
 "nbformat": 4,
 "nbformat_minor": 4
}
