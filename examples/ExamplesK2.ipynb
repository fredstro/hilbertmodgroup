{
 "cells": [
  {
   "cell_type": "markdown",
   "metadata": {},
   "source": [
    "# Examples \n",
    "\n",
    "As our main examples we will consider Hilbert modular groups of the following three number Fields:\n",
    "- $ K_1 = \\mathbb{Q}(\\sqrt{5})$  (one cusp, discriminant 5, generally the simplest example)\n",
    "- $ K_2 = \\mathbb{Q}(\\sqrt{10})$ (two cusps, discriminant 40)\n",
    "- $ K_3 = \\mathbb{Q}(\\alpha)$, where $\\alpha$ has minimal polynomial $\\alpha^3-\\alpha^2-2x+1$ (one cusp, discriminant 49)\n",
    "\n",
    "In this notebook we will look at the second example. "
   ]
  },
  {
   "cell_type": "markdown",
   "metadata": {},
   "source": [
    "## Example 2  $K_2=\\mathbf{Q}(\\sqrt{10})$\n",
    "\n",
    "This has class number 2, discriminant $40$ and fundamental unit $\\epsilon=3+\\sqrt{10}$.\n",
    "\n",
    "Note that SageMath orders the embeddings as $-\\sqrt{10},+\\sqrt{10}$ chooses the fundamental unit $3-\\sqrt{10}$."
   ]
  },
  {
   "cell_type": "markdown",
   "metadata": {},
   "source": [
    "## Introductory example of basic usage\n",
    "Let's first demonstrate the reduction of a point $$z=(0.1+i,0.2+0.5i) \\in \\mathbb{H}^2$$ with respect to the fundamental domain of $K_2$."
   ]
  },
  {
   "cell_type": "code",
   "execution_count": null,
   "metadata": {},
   "outputs": [],
   "source": [
    "from plot import plot_polygon\n",
    "from hilbert_modgroup.all import HilbertModularGroup, HilbertPullback, UpperHalfPlaneProductElement\n",
    "H2 = HilbertModularGroup(10)\n",
    "K2 = H2.base_ring().number_field()\n",
    "P2 = HilbertPullback(H2)"
   ]
  },
  {
   "cell_type": "code",
   "execution_count": null,
   "metadata": {},
   "outputs": [],
   "source": [
    "z = UpperHalfPlaneProductElement([0.1+I,0.2+0.5*I])\n",
    "P2.reduce(z)"
   ]
  },
  {
   "cell_type": "markdown",
   "metadata": {},
   "source": [
    "Then check that if we apply a random element of $H_2$ we get the same (up to numerical error) reduced point"
   ]
  },
  {
   "cell_type": "code",
   "execution_count": null,
   "metadata": {},
   "outputs": [],
   "source": [
    "w = H2.random_element(-5,5).acton(z)\n",
    "P2.reduce(z) - P2.reduce(w)"
   ]
  },
  {
   "cell_type": "markdown",
   "metadata": {},
   "source": [
    "## Details of the algorithm\n",
    "We will now go through the inner workings of the algorithm and the construction of the relevant bounds in more detail.\n",
    "Note that the functions below will mainly be of interest to researchers who wants to verify or extend these algorithms or results."
   ]
  },
  {
   "cell_type": "markdown",
   "metadata": {},
   "source": [
    "The two cusps of $\\mathrm{SL}(\\mathcal{O}_{K_2})$ can be represented by \n",
    "$\\lambda_1=\\infty=(1:0)$ and $\\lambda_2=(2:\\sqrt{10})$ corresponding to the representative ideals\n",
    "$\\mathfrak{a}_1=\\mathcal{O}_{K_2}$ and $\\mathfrak{a}_2=(2,\\sqrt{10})$ where $\\mathbb(\\mathfrak{a}_2)=2$."
   ]
  },
  {
   "cell_type": "markdown",
   "metadata": {},
   "source": [
    "It is worth noting that the class group representative given by Sage is $(3,2+\\sqrt{10})$ of norm $3$."
   ]
  },
  {
   "cell_type": "code",
   "execution_count": null,
   "metadata": {},
   "outputs": [],
   "source": [
    "P2._matrix_BLambda_row_sum(1)"
   ]
  },
  {
   "cell_type": "code",
   "execution_count": null,
   "metadata": {},
   "outputs": [],
   "source": [
    "H2.cusps()"
   ]
  },
  {
   "cell_type": "code",
   "execution_count": null,
   "metadata": {},
   "outputs": [],
   "source": [
    "c=H2.cusps()[1]\n",
    "(c.numerator()/c.denominator()).complex_embeddings()"
   ]
  },
  {
   "cell_type": "markdown",
   "metadata": {},
   "source": [
    "The ring of integers has basis $\\alpha_1=1$ and $\\alpha_2=\\sqrt{10}$ so we have \n",
    "\n",
    "$$\n",
    "B_{\\mathcal{O}_{K_2}} = \n",
    "\\left(\\begin{array}{cc}\n",
    "1 & \\sqrt{10}\\\\\n",
    "1 & -\\sqrt{10}\n",
    "\\end{array}\\right)\n",
    "\\quad\n",
    "B_{\\mathcal{O}_{K_2}}^{-1}=\\frac{1}{-2\\sqrt{10}}\\left(\\begin{array}{cc}\n",
    "-\\sqrt{10} & -\\sqrt{10}\\\\\n",
    "-1 & 1\n",
    "\\end{array}\\right)\n",
    "$$\n",
    "and\n",
    "$$B_{\\Lambda} = \\left(\\log (3+\\sqrt{10})  \\log (\\sqrt{10}-3)\\right).$$\n",
    "\n",
    "Hence $$\\left\\Vert B_{\\Lambda}\\right\\Vert _{\\infty}\t\\approx1.81, \\quad D_{0}\\approx4.30,$$\n",
    "$$\\left\\Vert B_{\\mathcal{O}_K}\\right\\Vert _{\\infty}\\approx4.16 \\quad  \\left\\Vert B_{\\mathcal{O}_K}^{-1}\\right\\Vert _{\\infty}=1.$$"
   ]
  },
  {
   "cell_type": "code",
   "execution_count": null,
   "metadata": {},
   "outputs": [],
   "source": [
    "P2.D()"
   ]
  },
  {
   "cell_type": "code",
   "execution_count": null,
   "metadata": {},
   "outputs": [],
   "source": [
    "P2.basis_matrix_ideal().norm(Infinity)"
   ]
  },
  {
   "cell_type": "code",
   "execution_count": null,
   "metadata": {},
   "outputs": [],
   "source": [
    "P2.basis_matrix_ideal().inverse().norm(Infinity)"
   ]
  },
  {
   "cell_type": "code",
   "execution_count": null,
   "metadata": {},
   "outputs": [],
   "source": [
    "P2.basis_matrix_logarithmic_unit_lattice().norm(Infinity)"
   ]
  },
  {
   "cell_type": "markdown",
   "metadata": {},
   "source": [
    "Let's find the closest cusp to the point $\\mathbf{z}=i\\mathbf{1}$."
   ]
  },
  {
   "cell_type": "code",
   "execution_count": null,
   "metadata": {},
   "outputs": [],
   "source": [
    "z=UpperHalfPlaneProductElement([CC(0,1.0),CC(0,1.0)])"
   ]
  },
  {
   "cell_type": "markdown",
   "metadata": {},
   "source": [
    "First of all we note that the preliminary LLL method does not yield any other cusps than infinity to compare with.\n"
   ]
  },
  {
   "cell_type": "code",
   "execution_count": null,
   "metadata": {},
   "outputs": [],
   "source": [
    "P2.get_heuristic_closest_cusp(z)"
   ]
  },
  {
   "cell_type": "markdown",
   "metadata": {},
   "source": [
    "The norm bound is now: "
   ]
  },
  {
   "cell_type": "code",
   "execution_count": null,
   "metadata": {},
   "outputs": [],
   "source": [
    "P2.max_ideal_norm()"
   ]
  },
  {
   "cell_type": "code",
   "execution_count": null,
   "metadata": {},
   "outputs": [],
   "source": [
    "# Add arguments to include the norm bounds\n",
    "norm_args = {'norm_bound':P2._bound_for_sigma_norm(z)}"
   ]
  },
  {
   "cell_type": "code",
   "execution_count": null,
   "metadata": {},
   "outputs": [],
   "source": [
    "p=P2._candidate_integers_sigma(z,domain='preimage',return_polyhedron=True)\n",
    "plot_polygon(p,K2.ideal(1).integral_basis(),action='show',xmin=-5,xmax=5,ymin=-4.5,ymax=4.5,**norm_args)"
   ]
  },
  {
   "cell_type": "code",
   "execution_count": null,
   "metadata": {},
   "outputs": [],
   "source": [
    "plot_polygon(p,K2.ideal(1).integral_basis(),action='save',xmin=-5,xmax=5,ymin=-4.5,ymax=4.5,filename='K2.z1.domain1.pgf',**norm_args)"
   ]
  },
  {
   "cell_type": "code",
   "execution_count": null,
   "metadata": {},
   "outputs": [],
   "source": [
    "p=P2._candidate_integers_sigma(z,domain='polytope',return_polyhedron=True)\n",
    "print(p.vertices())\n",
    "# Add arguments to include the norm bounds\n",
    "norm_args = {'norm_bound':P2._bound_for_sigma_norm(z),'curve_map':P2.basis_matrix_ideal().inverse(),'norm_plot_factor':1.5}\n",
    "plot_polygon(p,[1,1],action='show',ticks=[2,2],xmin=-4.75,xmax=4.75,ymin=-4.75,ymax=4.75,**norm_args)"
   ]
  },
  {
   "cell_type": "code",
   "execution_count": null,
   "metadata": {},
   "outputs": [],
   "source": [
    "plot_polygon(p,[1,1],action='save',ticks=[2,2],filename='K2.z1.domain2.pgf',xmin=-4.75,xmax=4.75,ymin=-4.75,ymax=4.75,**norm_args)"
   ]
  },
  {
   "cell_type": "markdown",
   "metadata": {},
   "source": [
    "We can see now that the norm bounds are actually very efficient in this case as they eliminate 6 potential $\\sigma$s and leave only $0$ ,$1$ and $-1$."
   ]
  },
  {
   "cell_type": "code",
   "execution_count": null,
   "metadata": {},
   "outputs": [],
   "source": [
    "P2._candidate_integers_sigma(z)"
   ]
  },
  {
   "cell_type": "markdown",
   "metadata": {},
   "source": [
    "We obtain 10 candidates for closest cusp and we see that the cusps $0$ and $\\infty$ are both closest with distance $1$."
   ]
  },
  {
   "cell_type": "code",
   "execution_count": null,
   "metadata": {},
   "outputs": [],
   "source": [
    "candidate_cusps = P2._candidate_closest_cusps(z,as_cusps=True)\n",
    "print(\"Number of candidate cusps=\",len(candidate_cusps))\n",
    "for c in candidate_cusps:\n",
    "    print(P2.distance_to_cusp(c,z),c)"
   ]
  },
  {
   "cell_type": "code",
   "execution_count": null,
   "metadata": {},
   "outputs": [],
   "source": [
    "P2.find_closest_cusp(z,return_multiple=True)"
   ]
  },
  {
   "cell_type": "markdown",
   "metadata": {},
   "source": [
    "##  Another point\n",
    "Let's consider moving the point further towards 0 and consider again $\\mathbf{z}=\\frac{1}{2}i\\mathbf{1}$."
   ]
  },
  {
   "cell_type": "code",
   "execution_count": null,
   "metadata": {},
   "outputs": [],
   "source": [
    "z=UpperHalfPlaneProductElement([CC(0,0.5),CC(0.0,0.5)])"
   ]
  },
  {
   "cell_type": "markdown",
   "metadata": {},
   "source": [
    "In this case the preliminary search yields the cusp $(0:1)$ with distance $1/2$ so we will use the algorithm with $d=1/2$."
   ]
  },
  {
   "cell_type": "code",
   "execution_count": null,
   "metadata": {},
   "outputs": [],
   "source": [
    "c=P2.get_heuristic_closest_cusp(z); c"
   ]
  },
  {
   "cell_type": "code",
   "execution_count": null,
   "metadata": {},
   "outputs": [],
   "source": [
    "P2.distance_to_cusp(c,z)"
   ]
  },
  {
   "cell_type": "code",
   "execution_count": null,
   "metadata": {},
   "outputs": [],
   "source": [
    "P2._bound_for_sigma_norm(z,dist=0.5)"
   ]
  },
  {
   "cell_type": "markdown",
   "metadata": {},
   "source": [
    "So the norm bound is the same again as before."
   ]
  },
  {
   "cell_type": "code",
   "execution_count": null,
   "metadata": {},
   "outputs": [],
   "source": [
    "p=P2._candidate_integers_sigma(z,domain='preimage',return_polyhedron=True)\n",
    "norm_args = {'norm_bound':P2._bound_for_sigma_norm(z,dist=0.5)}\n",
    "plot_polygon(p,K2.ideal(1).integral_basis(),action='show',**norm_args)"
   ]
  },
  {
   "cell_type": "code",
   "execution_count": null,
   "metadata": {},
   "outputs": [],
   "source": [
    "plot_polygon(p,K2.ideal(1).integral_basis(),action='save',filename='K2.z2.domain1.pgf',**norm_args)"
   ]
  },
  {
   "cell_type": "code",
   "execution_count": null,
   "metadata": {},
   "outputs": [],
   "source": [
    "p=P2._candidate_integers_sigma(z,domain='polytope',return_polyhedron=True)\n",
    "norm_args = {'norm_bound':P2._bound_for_sigma_norm(z,dist=0.5),'curve_map':P2.basis_matrix_ideal().inverse(),'norm_plot_factor':1.5}\n",
    "plot_polygon(p,[1,1],action='show',ymax=4,ymin=-4,**norm_args)"
   ]
  },
  {
   "cell_type": "code",
   "execution_count": null,
   "metadata": {},
   "outputs": [],
   "source": [
    "plot_polygon(p,[1,1],action='save',ymax=4,ymin=-4,filename='K2.z2.domain2.pgf',**norm_args)"
   ]
  },
  {
   "cell_type": "markdown",
   "metadata": {},
   "source": [
    "It is clear from these images that we again have only $\\sigma = 0, -1, 1$ and the potential cusps are also precisely $0$, $1$ and $-1$"
   ]
  },
  {
   "cell_type": "code",
   "execution_count": null,
   "metadata": {},
   "outputs": [],
   "source": [
    "P2._candidate_integers_sigma(z)"
   ]
  },
  {
   "cell_type": "code",
   "execution_count": null,
   "metadata": {},
   "outputs": [],
   "source": [
    "candidate_cusps = P2._candidate_closest_cusps(z,as_cusps=True)\n",
    "print(\"Number of candidate cusps=\",len(candidate_cusps))\n",
    "for c in candidate_cusps:\n",
    "    print(P2.distance_to_cusp(c,z),c)"
   ]
  },
  {
   "cell_type": "markdown",
   "metadata": {},
   "source": [
    "And it is clear that $0$ is the unique closest cusp. "
   ]
  },
  {
   "cell_type": "code",
   "execution_count": null,
   "metadata": {},
   "outputs": [],
   "source": [
    "P2.find_closest_cusp(z,return_multiple=True)"
   ]
  },
  {
   "cell_type": "markdown",
   "metadata": {},
   "source": [
    "Now, if we didn't use the preliminary reduction we would have gotten $13$ possible values for $\\sigma$ and 47 candidate cusps. "
   ]
  },
  {
   "cell_type": "code",
   "execution_count": null,
   "metadata": {},
   "outputs": [],
   "source": [
    "len(P2._candidate_integers_sigma(z,use_initial_bd_d=False))"
   ]
  },
  {
   "cell_type": "code",
   "execution_count": null,
   "metadata": {},
   "outputs": [],
   "source": [
    "len(P2._candidate_closest_cusps(z,use_initial_bd_d=False))"
   ]
  },
  {
   "cell_type": "markdown",
   "metadata": {},
   "source": [
    "## A point close to the second cusp\n",
    "So far we have only involved cusps equivalent to infinity. \n",
    "To demonstrate the the algorithm works for other cusps, consider the following point \n"
   ]
  },
  {
   "cell_type": "code",
   "execution_count": null,
   "metadata": {},
   "outputs": [],
   "source": [
    "z=UpperHalfPlaneProductElement([CC(2.58,0.5),CC(0.5,0.5)])"
   ]
  },
  {
   "cell_type": "code",
   "execution_count": null,
   "metadata": {},
   "outputs": [],
   "source": [
    "c=P2.get_heuristic_closest_cusp(z); c"
   ]
  },
  {
   "cell_type": "code",
   "execution_count": null,
   "metadata": {},
   "outputs": [],
   "source": [
    "P2.distance_to_cusp(c,z)"
   ]
  },
  {
   "cell_type": "code",
   "execution_count": null,
   "metadata": {},
   "outputs": [],
   "source": [
    "P2._bound_for_sigma_norm(z,dist=1.59731464318420)"
   ]
  },
  {
   "cell_type": "code",
   "execution_count": null,
   "metadata": {},
   "outputs": [],
   "source": [
    "p=P2._candidate_integers_sigma(z,domain='preimage',return_polyhedron=True)\n",
    "norm_args = {'norm_bound':P2._bound_for_sigma_norm(z,dist=1.59731464318420)}\n",
    "plot_polygon(p,K2.ideal(1).integral_basis(),action='show',ticks=[5,5],**norm_args)"
   ]
  },
  {
   "cell_type": "code",
   "execution_count": null,
   "metadata": {},
   "outputs": [],
   "source": [
    "plot_polygon(p,K2.ideal(1).integral_basis(),action='save',ticks=[5,5],filename='K2.z3.domain1.pgf',**norm_args)"
   ]
  },
  {
   "cell_type": "code",
   "execution_count": null,
   "metadata": {},
   "outputs": [],
   "source": [
    "p=P2._candidate_integers_sigma(z,domain='polytope',return_polyhedron=True)\n",
    "norm_args = {'norm_bound':P2._bound_for_sigma_norm(z,1.59731464318420),'curve_map':P2.basis_matrix_ideal().inverse(),'norm_plot_factor':1.5}\n",
    "plot_polygon(p,[1,1],action='show',ymax=5,ymin=-5,xmax=5,xmin=-5,**norm_args)"
   ]
  },
  {
   "cell_type": "code",
   "execution_count": null,
   "metadata": {},
   "outputs": [],
   "source": [
    "plot_polygon(p,[1,1],action='save',ticks=[4,4],filename='K2.z3.domain2.pgf',ymax=5,ymin=-5,xmax=5,xmin=-5,**norm_args)"
   ]
  },
  {
   "cell_type": "markdown",
   "metadata": {},
   "source": [
    "And we see again that the norm bound actually does remove a lot of potential $\\sigma$s."
   ]
  },
  {
   "cell_type": "code",
   "execution_count": null,
   "metadata": {},
   "outputs": [],
   "source": [
    "sigmas = P2._candidate_integers_sigma(z)\n",
    "print(len(sigmas))"
   ]
  },
  {
   "cell_type": "code",
   "execution_count": null,
   "metadata": {},
   "outputs": [],
   "source": [
    "candidate_cusps = P2._candidate_closest_cusps(z,as_cusps=True)\n",
    "print(\"Number of candidate cusps=\",len(candidate_cusps))"
   ]
  },
  {
   "cell_type": "markdown",
   "metadata": {},
   "source": [
    "So by using these bounds we only need to compare the distance to 28 distinct cusps. \n",
    "\n",
    "If we had not used the norm bound we would have had to consider 89 cusps:"
   ]
  },
  {
   "cell_type": "code",
   "execution_count": null,
   "metadata": {},
   "outputs": [],
   "source": [
    "len(P2._candidate_closest_cusps(z,use_norm_bound=False,use_initial_bd_d=False))"
   ]
  },
  {
   "cell_type": "code",
   "execution_count": null,
   "metadata": {},
   "outputs": [],
   "source": [
    "c = P2.find_closest_cusp(z,return_multiple=True)[0]\n",
    "c"
   ]
  },
  {
   "cell_type": "code",
   "execution_count": null,
   "metadata": {},
   "outputs": [],
   "source": [
    "P2.distance_to_cusp(c,z)"
   ]
  },
  {
   "cell_type": "markdown",
   "metadata": {},
   "source": [
    "This cusp is equivalent to the second cusp: "
   ]
  },
  {
   "cell_type": "code",
   "execution_count": null,
   "metadata": {},
   "outputs": [],
   "source": [
    "c.is_Gamma0_equivalent(H2.cusps()[0],K2.ideal(1)) # Not equivalent to infinity"
   ]
  },
  {
   "cell_type": "code",
   "execution_count": null,
   "metadata": {},
   "outputs": [],
   "source": [
    "c.is_Gamma0_equivalent(H2.cusps()[1],K2.ideal(1),True) #Is equivalent to the other cusp."
   ]
  },
  {
   "cell_type": "code",
   "execution_count": null,
   "metadata": {},
   "outputs": [],
   "source": [
    "l=_[1]"
   ]
  },
  {
   "cell_type": "code",
   "execution_count": null,
   "metadata": {},
   "outputs": [],
   "source": [
    "c.apply(l)"
   ]
  },
  {
   "cell_type": "code",
   "execution_count": null,
   "metadata": {},
   "outputs": [],
   "source": [
    "P2.distance_to_cusp(c,z)"
   ]
  },
  {
   "cell_type": "markdown",
   "metadata": {},
   "source": [
    "Now, let's see the complete pull-back to the fundamental domain:"
   ]
  },
  {
   "cell_type": "code",
   "execution_count": null,
   "metadata": {},
   "outputs": [],
   "source": [
    "z=UpperHalfPlaneProductElement([CC(2.58,0.5),CC(0.5,0.5)])\n",
    "w, B = P2.reduce(z,return_map=True)\n",
    "w,B"
   ]
  },
  {
   "cell_type": "markdown",
   "metadata": {},
   "source": [
    "Let's check that this point is correct:"
   ]
  },
  {
   "cell_type": "code",
   "execution_count": null,
   "metadata": {},
   "outputs": [],
   "source": [
    "# Check that the map takes z to w\n",
    "z.apply(B) - w"
   ]
  },
  {
   "cell_type": "code",
   "execution_count": null,
   "metadata": {},
   "outputs": [],
   "source": [
    "r,s=P2.get_heuristic_closest_cusp(w)\n",
    "c = NFCusp(K2,r,s)\n",
    "print(\"Preliminary closest cusp (by LLL)=\",c)\n",
    "c == H2.cusps()[1]"
   ]
  },
  {
   "cell_type": "markdown",
   "metadata": {},
   "source": [
    "So we see that this is actually another representative of the same cusp as before. \n",
    "However, we need of course to **prove** that this is the closest cusp.\n"
   ]
  },
  {
   "cell_type": "code",
   "execution_count": null,
   "metadata": {},
   "outputs": [],
   "source": [
    "# This might take a few minutes (took 130s minutes on my laptop). Uncomment if you want to make sure, \n",
    "# otherwise use the cusps in the next cell\n",
    "# import time\n",
    "# t0 = time.time()\n",
    "# l=P2._candidate_closest_cusps(w)\n",
    "# t1 = time.time()\n",
    "# print(t1-t0)\n",
    "# 130.6130931377411"
   ]
  },
  {
   "cell_type": "code",
   "execution_count": null,
   "metadata": {},
   "outputs": [],
   "source": [
    "a = P2.number_field().gen()\n",
    "l=[(1, 0), (-7*a - 22, -10*a - 31), (-7*a - 20, -9*a - 31), (-6*a - 18, -8*a - 27), (-6*a - 16, -7*a - 27),\n",
    "     (-5*a - 13, -6*a - 22), (-5*a - 11, -5*a - 22), (-4*a - 16, -7*a - 18), (-4*a - 9, -4*a - 18),\n",
    "     (-3*a - 7, -3*a - 14), (-3*a - 5, -2*a - 14), (-3*a + 2, a - 14), (-3*a + 4, 2*a - 14), (-3*a - 13, -6*a - 13),\n",
    "     (-3*a - 11, -5*a - 13), (-3*a, -13), (-2*a + 6, 3*a - 10), (-2*a - 11, -5*a - 9), (-2*a - 9, -4*a - 9), \n",
    "     (-2*a, -9), (-2*a + 2, a - 9), (-2*a + 9, 4*a - 9), (-a - 7, -3*a - 5), (-a + 11, 5*a - 5), (-a - 4, -2*a - 4), \n",
    "     (-a - 2, -a - 4), (-11, -5*a), (-9, -4*a), (-7, -3*a)]\n",
    "len(l) "
   ]
  },
  {
   "cell_type": "code",
   "execution_count": null,
   "metadata": {},
   "outputs": [],
   "source": [
    "for r,s in l:\n",
    "    d = P2.distance_to_cusp(NFCusp(K2,r,s),w)\n",
    "    print(f\"{str(r):<10} {str(s):<15}{str(d)}\")"
   ]
  },
  {
   "cell_type": "markdown",
   "metadata": {},
   "source": [
    "And we see that the closest cusp is given by (-2*a + 6:3*a - 10) which is just another representative of the cusp $\\lambda_2$ so $w$ is indeed closest to this cusp:"
   ]
  },
  {
   "cell_type": "code",
   "execution_count": null,
   "metadata": {},
   "outputs": [],
   "source": [
    "NFCusp(K2,-2*a + 6,3*a - 10) == H2.cusps()[1]"
   ]
  },
  {
   "cell_type": "markdown",
   "metadata": {},
   "source": [
    "We can now also check that it is reduced with respect to the stabiliser of $\\lambda_2$:"
   ]
  },
  {
   "cell_type": "code",
   "execution_count": null,
   "metadata": {},
   "outputs": [],
   "source": [
    "P2.X(w,H2.ideal_cusp_representatives()[1]**(-2))"
   ]
  },
  {
   "cell_type": "code",
   "execution_count": null,
   "metadata": {},
   "outputs": [],
   "source": [
    "P2.Y(w)"
   ]
  },
  {
   "cell_type": "markdown",
   "metadata": {},
   "source": [
    "And hence the point w is indeed in the fundamental domain."
   ]
  },
  {
   "cell_type": "code",
   "execution_count": null,
   "metadata": {},
   "outputs": [],
   "source": []
  }
 ],
 "metadata": {
  "kernelspec": {
   "display_name": "SageMath 9.5",
   "language": "sage",
   "name": "sagemath"
  },
  "language_info": {
   "codemirror_mode": {
    "name": "ipython",
    "version": 3
   },
   "file_extension": ".py",
   "mimetype": "text/x-python",
   "name": "python",
   "nbconvert_exporter": "python",
   "pygments_lexer": "ipython3",
   "version": "3.10.2"
  }
 },
 "nbformat": 4,
 "nbformat_minor": 4
}
